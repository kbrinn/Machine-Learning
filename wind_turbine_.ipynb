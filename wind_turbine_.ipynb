{
 "cells": [
  {
   "cell_type": "markdown",
   "id": "informational-observation",
   "metadata": {},
   "source": [
    "Data processing."
   ]
  },
  {
   "cell_type": "code",
   "execution_count": 23,
   "id": "shared-management",
   "metadata": {},
   "outputs": [],
   "source": [
    "import pandas as pd\n",
    "pd.options.plotting.backend = \"plotly\"\n",
    "import numpy as np\n",
    "import xgboost as xgb\n",
    "import matplotlib.pyplot as plt\n",
    "from sklearn.metrics import accuracy_score\n",
    "from sklearn.model_selection import cross_val_score\n",
    "from sklearn.model_selection import train_test_split\n",
    "from sklearn.multioutput import MultiOutputRegressor\n",
    "from sklearn.model_selection import TimeSeriesSplit\n",
    "from sklearn.model_selection import GridSearchCV\n"
   ]
  },
  {
   "cell_type": "markdown",
   "id": "municipal-screw",
   "metadata": {},
   "source": [
    "<font size=\"6\"> [1.1] - Data Processing. </font>"
   ]
  },
  {
   "cell_type": "markdown",
   "id": "specific-fleece",
   "metadata": {},
   "source": [
    "La Haute Dataset is downloaded from website: https://opendata-renewables.engie.com/explore/index and it is a collection of multiple output sensor reading with a timestamp of 10 minutes apart, for 4 years. Some of the data is incomplete, not collected or not useful for our problem so preprocessing of data is required.\n",
    "\n",
    "The dataset is a concatenation of 4 different wind turbines installed in the same region. The idea behind concatenating 4 similar systems is to train a generic model that can later be deployed on a different system and serve as a starting point for transfer learning applications.\n",
    "\n",
    "Just by visualizing the data we can see many missing readings and some features have less readings. This is important because we must decide what to do; If a specific feature has too many missing values and it is not a relevant feature for the future model that we want to train, then it is convinient to drop the entire column so we can keep more samples for training. "
   ]
  },
  {
   "cell_type": "code",
   "execution_count": 24,
   "id": "charming-capability",
   "metadata": {},
   "outputs": [],
   "source": [
    "DF_R80711= pd.read_csv('Data/Turbines_data_dbo_TURBINE_R80711_SFFT.csv')\n",
    "DF_R80721= pd.read_csv('Data/Turbines_data_dbo_TURBINE_R80721_SFFT.csv')\n",
    "DF_R80736= pd.read_csv('Data/Turbines_data_dbo_TURBINE_R80736_SFFT.csv')\n",
    "DF_R80790= pd.read_csv('Data/Turbines_data_dbo_TURBINE_R80790_SFTT.csv')"
   ]
  },
  {
   "cell_type": "code",
   "execution_count": 25,
   "id": "saving-seminar",
   "metadata": {},
   "outputs": [],
   "source": [
    "DF_R80711_NAN=DF_R80711.drop(['Wind_turbine_name','Date_time','id_index'], axis=1)\n",
    "DF_R80721_NAN=DF_R80721.drop(['Wind_turbine_name','Date_time','id_index'], axis=1)\n",
    "DF_R80736_NAN=DF_R80736.drop(['Wind_turbine_name','Date_time','id_index'], axis=1)\n",
    "DF_R80790_NAN=DF_R80790.drop(['Wind_turbine_name','Date_time','id_index'], axis=1)\n",
    "\n",
    "DF_R80711_TB=DF_R80711_NAN.isnull().sum()\n",
    "DF_R80721_TB=DF_R80721_NAN.isnull().sum()\n",
    "DF_R80736_TB=DF_R80736_NAN.isnull().sum()\n",
    "DF_R80790_TB=DF_R80790_NAN.isnull().sum()"
   ]
  },
  {
   "cell_type": "code",
   "execution_count": 26,
   "id": "professional-receipt",
   "metadata": {},
   "outputs": [],
   "source": [
    "DF = pd.concat([DF_R80711_TB, DF_R80721_TB,DF_R80736_TB,DF_R80790_TB], axis=1, join=\"inner\")\n",
    "DF_combined=DF.transpose()\n",
    "DF_combined.index=['R80711', 'R80721','R80736','R80790']"
   ]
  },
  {
   "cell_type": "code",
   "execution_count": 27,
   "id": "cultural-miracle",
   "metadata": {},
   "outputs": [
    {
     "data": {
      "text/html": [
       "<div>\n",
       "<style scoped>\n",
       "    .dataframe tbody tr th:only-of-type {\n",
       "        vertical-align: middle;\n",
       "    }\n",
       "\n",
       "    .dataframe tbody tr th {\n",
       "        vertical-align: top;\n",
       "    }\n",
       "\n",
       "    .dataframe thead th {\n",
       "        text-align: right;\n",
       "    }\n",
       "</style>\n",
       "<table border=\"1\" class=\"dataframe\">\n",
       "  <thead>\n",
       "    <tr style=\"text-align: right;\">\n",
       "      <th></th>\n",
       "      <th>Ba_avg</th>\n",
       "      <th>Ba_min</th>\n",
       "      <th>Ba_max</th>\n",
       "      <th>Ba_std</th>\n",
       "      <th>Rt_avg</th>\n",
       "      <th>Rt_min</th>\n",
       "      <th>Rt_max</th>\n",
       "      <th>Rt_std</th>\n",
       "      <th>DCs_avg</th>\n",
       "      <th>DCs_min</th>\n",
       "      <th>...</th>\n",
       "      <th>Rbt_avg</th>\n",
       "      <th>Rbt_min</th>\n",
       "      <th>Rbt_max</th>\n",
       "      <th>Rbt_std</th>\n",
       "      <th>Rm_avg</th>\n",
       "      <th>Rm_min</th>\n",
       "      <th>Rm_max</th>\n",
       "      <th>Rm_std</th>\n",
       "      <th>Wa_c_avg</th>\n",
       "      <th>Na_c_avg</th>\n",
       "    </tr>\n",
       "  </thead>\n",
       "  <tbody>\n",
       "    <tr>\n",
       "      <th>R80711</th>\n",
       "      <td>1540</td>\n",
       "      <td>1540</td>\n",
       "      <td>1540</td>\n",
       "      <td>1540</td>\n",
       "      <td>1538</td>\n",
       "      <td>1538</td>\n",
       "      <td>1538</td>\n",
       "      <td>1538</td>\n",
       "      <td>1538</td>\n",
       "      <td>1538</td>\n",
       "      <td>...</td>\n",
       "      <td>1538</td>\n",
       "      <td>1538</td>\n",
       "      <td>1538</td>\n",
       "      <td>1538</td>\n",
       "      <td>2399</td>\n",
       "      <td>2399</td>\n",
       "      <td>2399</td>\n",
       "      <td>2399</td>\n",
       "      <td>54181</td>\n",
       "      <td>54181</td>\n",
       "    </tr>\n",
       "    <tr>\n",
       "      <th>R80721</th>\n",
       "      <td>2043</td>\n",
       "      <td>2043</td>\n",
       "      <td>2043</td>\n",
       "      <td>2043</td>\n",
       "      <td>2043</td>\n",
       "      <td>2043</td>\n",
       "      <td>2043</td>\n",
       "      <td>2043</td>\n",
       "      <td>2043</td>\n",
       "      <td>2043</td>\n",
       "      <td>...</td>\n",
       "      <td>2043</td>\n",
       "      <td>2043</td>\n",
       "      <td>2043</td>\n",
       "      <td>2043</td>\n",
       "      <td>2726</td>\n",
       "      <td>2726</td>\n",
       "      <td>2726</td>\n",
       "      <td>2726</td>\n",
       "      <td>54947</td>\n",
       "      <td>54947</td>\n",
       "    </tr>\n",
       "    <tr>\n",
       "      <th>R80736</th>\n",
       "      <td>1659</td>\n",
       "      <td>1659</td>\n",
       "      <td>1659</td>\n",
       "      <td>1659</td>\n",
       "      <td>1658</td>\n",
       "      <td>1658</td>\n",
       "      <td>1658</td>\n",
       "      <td>1658</td>\n",
       "      <td>1658</td>\n",
       "      <td>1658</td>\n",
       "      <td>...</td>\n",
       "      <td>1658</td>\n",
       "      <td>1658</td>\n",
       "      <td>1658</td>\n",
       "      <td>1658</td>\n",
       "      <td>2706</td>\n",
       "      <td>2706</td>\n",
       "      <td>2706</td>\n",
       "      <td>2706</td>\n",
       "      <td>54309</td>\n",
       "      <td>54309</td>\n",
       "    </tr>\n",
       "    <tr>\n",
       "      <th>R80790</th>\n",
       "      <td>1407</td>\n",
       "      <td>1407</td>\n",
       "      <td>1407</td>\n",
       "      <td>1407</td>\n",
       "      <td>1407</td>\n",
       "      <td>1407</td>\n",
       "      <td>1407</td>\n",
       "      <td>1407</td>\n",
       "      <td>1407</td>\n",
       "      <td>1407</td>\n",
       "      <td>...</td>\n",
       "      <td>1407</td>\n",
       "      <td>1407</td>\n",
       "      <td>1407</td>\n",
       "      <td>1407</td>\n",
       "      <td>2156</td>\n",
       "      <td>2156</td>\n",
       "      <td>2156</td>\n",
       "      <td>2156</td>\n",
       "      <td>54379</td>\n",
       "      <td>54379</td>\n",
       "    </tr>\n",
       "  </tbody>\n",
       "</table>\n",
       "<p>4 rows × 126 columns</p>\n",
       "</div>"
      ],
      "text/plain": [
       "        Ba_avg  Ba_min  Ba_max  Ba_std  Rt_avg  Rt_min  Rt_max  Rt_std  \\\n",
       "R80711    1540    1540    1540    1540    1538    1538    1538    1538   \n",
       "R80721    2043    2043    2043    2043    2043    2043    2043    2043   \n",
       "R80736    1659    1659    1659    1659    1658    1658    1658    1658   \n",
       "R80790    1407    1407    1407    1407    1407    1407    1407    1407   \n",
       "\n",
       "        DCs_avg  DCs_min  ...  Rbt_avg  Rbt_min  Rbt_max  Rbt_std  Rm_avg  \\\n",
       "R80711     1538     1538  ...     1538     1538     1538     1538    2399   \n",
       "R80721     2043     2043  ...     2043     2043     2043     2043    2726   \n",
       "R80736     1658     1658  ...     1658     1658     1658     1658    2706   \n",
       "R80790     1407     1407  ...     1407     1407     1407     1407    2156   \n",
       "\n",
       "        Rm_min  Rm_max  Rm_std  Wa_c_avg  Na_c_avg  \n",
       "R80711    2399    2399    2399     54181     54181  \n",
       "R80721    2726    2726    2726     54947     54947  \n",
       "R80736    2706    2706    2706     54309     54309  \n",
       "R80790    2156    2156    2156     54379     54379  \n",
       "\n",
       "[4 rows x 126 columns]"
      ]
     },
     "execution_count": 27,
     "metadata": {},
     "output_type": "execute_result"
    }
   ],
   "source": [
    "DF_combined.head()"
   ]
  },
  {
   "cell_type": "code",
   "execution_count": 38,
   "id": "increasing-green",
   "metadata": {},
   "outputs": [
    {
     "data": {
      "image/png": "[encoded data removed]",
      "text/plain": [
       "<Figure size 1152x432 with 1 Axes>"
      ]
     },
     "metadata": {},
     "output_type": "display_data"
    }
   ],
   "source": [
    "plt.figure(figsize=(16,6))\n",
    "plt.plot(DF_combined.sum(axis = 0))\n",
    "plt.xticks(rotation=90)\n",
    "plt.margins(x=0)\n",
    "plt.text(20, 600000, 'NaN count Before processing', style='italic',\n",
    "        bbox={'facecolor': 'red', 'alpha': 0.5, 'pad': 10})\n",
    "plt.show()"
   ]
  },
  {
   "cell_type": "markdown",
   "id": "ecological-mambo",
   "metadata": {},
   "source": [
    "<font size=\"6\"> [1.2] - Data Clean. </font>"
   ]
  },
  {
   "cell_type": "markdown",
   "id": "regulated-trustee",
   "metadata": {},
   "source": [
    "According to the table, va1_avg and va2_avg has too many missing values. It must be dropped.\n",
    "Wa_c_avg and Na_c_Avg considerably have a missing values. columns will not be dropped because these features are related to the wind and are very important.\n",
    "\n",
    "<font color='blue'>      [P_avg Pmin P_max P_std Q_avg Q_min Q_max Q_std S_avg S_min S_max S_std Wa_c_avg Na_c_avg Va_avg Va_min]</font>\n",
    "\n",
    "All of the readings from the wind turbine that equal to zero nmust be dropped. This is probably because the turbine is not functional or it is under maintenance and this data is not useful to train regression models. \n",
    "\n",
    "The dataset will have no missing data. Only average readings are used to develop the model. \n",
    "A data set is created by dropping columns different than average readings; also date time and turbine name columns are dropped because they are not relevant features. "
   ]
  },
  {
   "cell_type": "code",
   "execution_count": 39,
   "id": "soviet-exposure",
   "metadata": {},
   "outputs": [],
   "source": [
    "R80711=DF_R80711.dropna(subset=['P_avg', 'P_min','P_max','P_std','Q_avg','Q_min',\n",
    "                                'Q_max','Q_std','S_avg','S_min','S_max','S_std',\n",
    "                                'Wa_c_avg','Na_c_avg','Va_avg','Va_min','Va_max',\n",
    "                                'Va_std'])\n",
    "R80721=DF_R80721.dropna(subset=['P_avg', 'P_min','P_max','P_std','Q_avg','Q_min',\n",
    "                                'Q_max','Q_std','S_avg','S_min','S_max','S_std',\n",
    "                                'Wa_c_avg','Na_c_avg','Va_avg','Va_min','Va_max',\n",
    "                                'Va_std'])\n",
    "R80736=DF_R80736.dropna(subset=['P_avg', 'P_min','P_max','P_std','Q_avg','Q_min',\n",
    "                                'Q_max','Q_std','S_avg','S_min','S_max','S_std',\n",
    "                                'Wa_c_avg','Na_c_avg','Va_avg','Va_min','Va_max',\n",
    "                                'Va_std'])\n",
    "R80790=DF_R80790.dropna(subset=['P_avg', 'P_min','P_max','P_std','Q_avg','Q_min',\n",
    "                                'Q_max','Q_std','S_avg','S_min','S_max','S_std',\n",
    "                                'Wa_c_avg','Na_c_avg','Va_avg','Va_min','Va_max',\n",
    "                                'Va_std'])\n",
    "\n",
    "R80711=R80711.drop(columns=['Va1_avg', 'Va1_min','Va1_max','Va1_std','Va2_avg','Va2_min',\n",
    "                     'Va2_max','Va2_std','Va_avg','Va_min','Va_max','Va_std'])\n",
    "           \n",
    "R80721=R80721.drop(columns=['Va1_avg', 'Va1_min','Va1_max','Va1_std','Va2_avg','Va2_min',\n",
    "                     'Va2_max','Va2_std','Va_avg','Va_min','Va_max','Va_std'])\n",
    "            \n",
    "R80736=R80736.drop(columns=['Va1_avg', 'Va1_min','Va1_max','Va1_std','Va2_avg','Va2_min',\n",
    "                     'Va2_max','Va2_std','Va_avg','Va_min','Va_max','Va_std'])\n",
    "            \n",
    "R80790=R80790.drop(columns=['Va1_avg', 'Va1_min','Va1_max','Va1_std','Va2_avg','Va2_min',\n",
    "                     'Va2_max','Va2_std','Va_avg','Va_min','Va_max','Va_std'])"
   ]
  },
  {
   "cell_type": "code",
   "execution_count": 40,
   "id": "becoming-scotland",
   "metadata": {},
   "outputs": [],
   "source": [
    "DF_R80711_TB=R80711.isnull().sum()\n",
    "DF_R80721_TB=R80721.isnull().sum()\n",
    "DF_R80736_TB=R80736.isnull().sum()\n",
    "DF_R80790_TB=R80790.isnull().sum()"
   ]
  },
  {
   "cell_type": "code",
   "execution_count": 41,
   "id": "olympic-center",
   "metadata": {},
   "outputs": [],
   "source": [
    "DF = pd.concat([DF_R80711_TB, DF_R80721_TB,DF_R80736_TB,DF_R80790_TB], axis=1, join=\"inner\")\n",
    "DF_combined=DF.transpose()\n",
    "DF_combined.index=['R80711', 'R80721','R80736','R80790']"
   ]
  },
  {
   "cell_type": "code",
   "execution_count": 42,
   "id": "creative-stockholm",
   "metadata": {},
   "outputs": [
    {
     "data": {
      "image/png": "[encoded data removed]",
      "text/plain": [
       "<Figure size 1152x432 with 1 Axes>"
      ]
     },
     "metadata": {},
     "output_type": "display_data"
    }
   ],
   "source": [
    "plt.figure(figsize=(16,6))\n",
    "plt.plot(DF_combined.sum(axis = 0))\n",
    "plt.xticks(rotation=90)\n",
    "plt.margins(x=0)\n",
    "plt.text(20, 8, 'NaN count after processing data', style='italic',\n",
    "        bbox={'facecolor': 'red', 'alpha': 0.5, 'pad': 10})\n",
    "plt.show()"
   ]
  },
  {
   "cell_type": "code",
   "execution_count": 12,
   "id": "executive-default",
   "metadata": {},
   "outputs": [],
   "source": [
    "DF = pd.concat([R80711,R80721,R80736,R80790])"
   ]
  },
  {
   "cell_type": "code",
   "execution_count": 13,
   "id": "aggregate-today",
   "metadata": {},
   "outputs": [],
   "source": [
    "df=pd.DataFrame(DF,columns=['Ba_avg','Rt_avg','DCs_avg','Cm_avg','P_avg',\n",
    "                            'Q_avg','S_avg','Cosphi_avg','Ds_avg','Db1t_avg',\n",
    "                            'Db2t_avg','Dst_avg','Gb1t_avg','Gb2t_avg','Git_avg',\n",
    "                            'Gost_avg','Ya_avg','Yt_avg','Ws1_avg','Ws2_avg',\n",
    "                            'Ws_avg','Wa_avg','Ot_avg','Nf_avg','Nu_avg','Rs_avg',\n",
    "                            'Rbt_avg','Rm_avg','Wa_c_avg','Na_c_avg'])"
   ]
  },
  {
   "cell_type": "markdown",
   "id": "active-salvation",
   "metadata": {},
   "source": [
    "<font size=\"6\"> [1.3] - Data Preparing. </font> "
   ]
  },
  {
   "cell_type": "markdown",
   "id": "signal-senior",
   "metadata": {},
   "source": [
    "Sliding window.\n",
    "The dataset must be prepared in a sliding window format for the model to make predcitions. \n",
    "Class below prepares data"
   ]
  },
  {
   "cell_type": "code",
   "execution_count": 14,
   "id": "marine-marketing",
   "metadata": {},
   "outputs": [],
   "source": [
    "class classifier_data:\n",
    "    def __init__(self, data, targets, time_horizon):\n",
    "        self.data = data\n",
    "        self.targets = targets\n",
    "        self.time_horizon = time_horizon\n",
    "        self.get_targets()\n",
    "        self.output = self.data_shift()\n",
    "\n",
    "    def data_shift(self):\n",
    "        lagged_features = self.data.iloc[:, self.get_targets()]\n",
    "        lagged_features = lagged_features.shift(self.time_horizon, axis=0)\n",
    "        lagged_features = lagged_features.add_suffix('_target')\n",
    "        data_formatted = pd.concat([self.data, lagged_features], axis=1)\n",
    "        data_formatted.drop(df.index[:self.time_horizon], inplace=True)\n",
    "        data_formatted.drop(df.columns[self.get_targets()], axis = 1, inplace = True)\n",
    "\n",
    "        return data_formatted\n",
    "\n",
    "    \n",
    "    def get_targets(self):\n",
    "        targets = self.targets\n",
    "        if \"-\" in targets:\n",
    "            x, y = map(int, targets.split(\"-\"))\n",
    "            output = [*range(x, y+1)]\n",
    "        elif \",\" in targets:\n",
    "            output = list(map(int, targets.split(\",\")))\n",
    "        else:\n",
    "            output = \"\"\n",
    "        return output"
   ]
  },
  {
   "cell_type": "code",
   "execution_count": 16,
   "id": "polar-graphic",
   "metadata": {},
   "outputs": [],
   "source": [
    "new_dframe=classifier_data(df,\"4-6\",10).output"
   ]
  },
  {
   "cell_type": "code",
   "execution_count": 17,
   "id": "ordered-communist",
   "metadata": {},
   "outputs": [],
   "source": [
    "X=new_dframe.drop(['P_avg_target','Q_avg_target','S_avg_target'], axis=1)\n",
    "Y=pd.DataFrame(new_dframe,columns=['P_avg_target','Q_avg_target','S_avg_target'])"
   ]
  },
  {
   "cell_type": "code",
   "execution_count": 18,
   "id": "tribal-representative",
   "metadata": {},
   "outputs": [],
   "source": [
    "x_train, x_test, y_train, y_test = train_test_split(X, Y, test_size=0.1, \n",
    "                                                    random_state=42, shuffle=False)"
   ]
  },
  {
   "cell_type": "code",
   "execution_count": 19,
   "id": "diverse-enemy",
   "metadata": {},
   "outputs": [],
   "source": [
    "x_train=np.array(x_train)\n",
    "y_train=np.array(y_train)\n",
    "x_test=np.array(x_test)\n",
    "y_test=np.array(y_test)"
   ]
  },
  {
   "cell_type": "markdown",
   "id": "proved-termination",
   "metadata": {},
   "source": [
    "XGBoost gradient boosted implementation for Python can only train models with a single target output.\n",
    "A way to workaround this is to use XGB Regressor from scikit learn as a wrapper and use it as MultiOutput Regressor."
   ]
  },
  {
   "cell_type": "code",
   "execution_count": 20,
   "id": "chemical-swimming",
   "metadata": {},
   "outputs": [],
   "source": [
    "model = MultiOutputRegressor(xgb.XGBRegressor(max_depth=6, n_estimators=200, n_jobs=1,\n",
    "                           objective='reg:squarederror', booster='gbtree',\n",
    "                           random_state=42, learning_rate=0.1)).fit(x_train, y_train)"
   ]
  },
  {
   "cell_type": "code",
   "execution_count": 21,
   "id": "framed-winner",
   "metadata": {},
   "outputs": [
    {
     "name": "stderr",
     "output_type": "stream",
     "text": [
      "/usr/local/lib/python3.8/dist-packages/xgboost/data.py:119: UserWarning: Use subset (sliced data) of np.ndarray is not recommended because it will generate extra copies and increase memory consumption\n",
      "  warnings.warn(\n",
      "/usr/local/lib/python3.8/dist-packages/xgboost/data.py:119: UserWarning: Use subset (sliced data) of np.ndarray is not recommended because it will generate extra copies and increase memory consumption\n",
      "  warnings.warn(\n",
      "/usr/local/lib/python3.8/dist-packages/xgboost/data.py:119: UserWarning: Use subset (sliced data) of np.ndarray is not recommended because it will generate extra copies and increase memory consumption\n",
      "  warnings.warn(\n"
     ]
    },
    {
     "name": "stdout",
     "output_type": "stream",
     "text": [
      "Accuracy: 44.89% (4.32%)\n"
     ]
    }
   ],
   "source": [
    "tscv = TimeSeriesSplit(n_splits=3)\n",
    "results = cross_val_score(model, x_train, y_train, cv=tscv)\n",
    "print(\"Accuracy: %.2f%% (%.2f%%)\" % (results.mean()*100, results.std()*100))"
   ]
  },
  {
   "cell_type": "markdown",
   "id": "aggregate-entertainment",
   "metadata": {},
   "source": [
    "The model performs poorly and unfortunately, with the model wrapper in a MultiOutputRegressor, it is not possible to run GridSearchCV for hyperparameter optimization. Each one of the the three targets must be trained individually. Individually, GridSearchCV will optimize hyperparameters. \n",
    "\n",
    "continuous-multioutput is not supported"
   ]
  },
  {
   "cell_type": "code",
   "execution_count": 22,
   "id": "ultimate-organic",
   "metadata": {},
   "outputs": [],
   "source": [
    "X=new_dframe.drop(['P_avg_target','Q_avg_target','S_avg_target'], axis=1)\n",
    "Y=pd.DataFrame(new_dframe,columns=['P_avg_target','Q_avg_target','S_avg_target'])\n",
    "x_train, x_test, y_train, y_test = train_test_split(X, Y, test_size=0.1, \n",
    "                                                    random_state=42, shuffle=False)"
   ]
  },
  {
   "cell_type": "code",
   "execution_count": 23,
   "id": "formal-organizer",
   "metadata": {},
   "outputs": [],
   "source": [
    "P_avg_target=pd.DataFrame(new_dframe,columns=['P_avg_target'])\n",
    "\n",
    "Q_avg_target=pd.DataFrame(new_dframe,columns=['Q_avg_target'])"
   ]
  },
  {
   "cell_type": "code",
   "execution_count": 24,
   "id": "sunrise-dubai",
   "metadata": {},
   "outputs": [],
   "source": [
    "x_train, x_test, P_train, P_test = train_test_split(X, P_avg_target, test_size=0.1, \n",
    "                                                    random_state=42, shuffle=False)\n",
    "\n",
    "x_train, x_test, Q_train, Q_test = train_test_split(X, Q_avg_target, test_size=0.1, \n",
    "                                                    random_state=42, shuffle=False)"
   ]
  },
  {
   "cell_type": "code",
   "execution_count": 26,
   "id": "ambient-speed",
   "metadata": {},
   "outputs": [
    {
     "name": "stdout",
     "output_type": "stream",
     "text": [
      "Parameter optimization\n",
      "Fitting 5 folds for each of 9 candidates, totalling 45 fits\n",
      "0.5325940079161751\n",
      "{'max_depth': 4, 'n_estimators': 50}\n"
     ]
    }
   ],
   "source": [
    "print(\"Parameter optimization\")\n",
    "\n",
    "param_search={'max_depth': [2, 4, 6],'n_estimators': [50, 100, 200]}\n",
    "\n",
    "\n",
    "param_grid = {\n",
    "    'n_estimators': [400, 700, 1000],\n",
    "    'colsample_bytree': [0.7, 0.8],\n",
    "    'max_depth': [15,20,25],\n",
    "    'reg_alpha': [1.1, 1.2, 1.3],\n",
    "    'reg_lambda': [1.1, 1.2, 1.3],\n",
    "    'subsample': [0.7, 0.8, 0.9]\n",
    "}\n",
    "\n",
    "xgb_model = xgb.XGBRegressor(n_jobs=1)\n",
    "clf = GridSearchCV(xgb_model,param_search, verbose=1, n_jobs=1)\n",
    "clf.fit(x_train, P_train)\n",
    "print(clf.best_score_)\n",
    "print(clf.best_params_)"
   ]
  },
  {
   "cell_type": "markdown",
   "id": "victorian-happiness",
   "metadata": {},
   "source": [
    "Here is the new model with the proposed hyperparameters with only one target output."
   ]
  },
  {
   "cell_type": "code",
   "execution_count": 44,
   "id": "olympic-fairy",
   "metadata": {},
   "outputs": [],
   "source": [
    "model = xgb.XGBRegressor(max_depth=4, n_estimators=200, n_jobs=1,\n",
    "                           objective='reg:squarederror', booster='gbtree',\n",
    "                           random_state=42, learning_rate=0.05)"
   ]
  },
  {
   "cell_type": "code",
   "execution_count": 45,
   "id": "advanced-raleigh",
   "metadata": {},
   "outputs": [
    {
     "name": "stdout",
     "output_type": "stream",
     "text": [
      "Accuracy: 51.06% (2.41%)\n"
     ]
    }
   ],
   "source": [
    "tscv = TimeSeriesSplit(n_splits=3)\n",
    "results = cross_val_score(model, x_train, P_train, cv=tscv)\n",
    "print(\"Accuracy: %.2f%% (%.2f%%)\" % (results.mean()*100, results.std()*100))"
   ]
  },
  {
   "cell_type": "markdown",
   "id": "eleven-chemistry",
   "metadata": {},
   "source": [
    "\n",
    "51.06% of accuracy is a good starting point for regression. The model can be deployed and tuned to have better inference.\n",
    "The dataset timestamp is 10 minutes. An extension to this project could be using the standard deviation formula and extend the dataset to 60 more readings every minute\n",
    "Good learning!\n"
   ]
  }
 ],
 "metadata": {
  "kernelspec": {
   "display_name": "Python 3",
   "language": "python",
   "name": "python3"
  },
  "language_info": {
   "codemirror_mode": {
    "name": "ipython",
    "version": 3
   },
   "file_extension": ".py",
   "mimetype": "text/x-python",
   "name": "python",
   "nbconvert_exporter": "python",
   "pygments_lexer": "ipython3",
   "version": "3.8.10"
  }
 },
 "nbformat": 4,
 "nbformat_minor": 5
}